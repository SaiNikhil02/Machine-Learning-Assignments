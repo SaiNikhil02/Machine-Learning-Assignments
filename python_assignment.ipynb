{
  "cells": [
    {
      "cell_type": "markdown",
      "metadata": {
        "id": "l0ZzOlyxB-kf"
      },
      "source": [
        "<h1>Python: without numpy or sklearn </h1>"
      ]
    },
    {
      "cell_type": "markdown",
      "metadata": {
        "id": "C0xO8JV9B-ki"
      },
      "source": [
        "<h3> Q1: Given two matrices please print the product of those two matrices </h3>\n",
        "<pre>\n",
        "\n",
        "Ex 1: A   = [[1 3 4]\n",
        "             [2 5 7]\n",
        "             [5 9 6]]\n",
        "      B   = [[1 0 0]\n",
        "             [0 1 0]\n",
        "             [0 0 1]]\n",
        "      A*B = [[1 3 4]\n",
        "             [2 5 7]\n",
        "             [5 9 6]]\n",
        "\n",
        "     \n",
        "Ex 2: A   = [[1 2]\n",
        "             [3 4]]\n",
        "      B   = [[1 2 3 4 5]\n",
        "             [5 6 7 8 9]]\n",
        "      A*B = [[11 14 17 20 23]\n",
        "             [23 30 37 44 51]]\n",
        "             \n",
        "Ex 3: A   = [[1 2]\n",
        "             [3 4]]\n",
        "      B   = [[1 4]\n",
        "             [5 6]\n",
        "             [7 8]\n",
        "             [9 6]]\n",
        "      A*B =Not possible\n",
        "</pre>"
      ]
    },
    {
      "cell_type": "code",
      "execution_count": null,
      "metadata": {
        "id": "rnssAfpgB-kj"
      },
      "outputs": [],
      "source": [
        "# write your python code here\n",
        "# you can take the above example as sample input for your program to test\n",
        "# it should work for any general input try not to hard code for only given input examples\n",
        "# you can take matrix input from user or you can directly define the matrix and give input to the function\n",
        "# reference for creating input - https://stackoverflow.com/questions/12293208/how-to-create-a-list-of-lists\n",
        "\n",
        "# you can free to change all these codes/structure\n",
        "# here A and B are list of lists\n",
        "def matrix_mul(A, B):\n",
        "  m1,n1=len(A),len(A[0])\n",
        "  m2,n2=len(B).len(B[0])\n",
        "  if n1 !=m2:\n",
        "    print(\"Matrix multiplication not possible \")\n",
        "    return\n",
        "  result=[[0 for j in range(n2)] for i in range(m1)]\n",
        "  for i in range(m1):\n",
        "    for j in range(m2):\n",
        "      for k in range(n2):\n",
        "        result[i][j]+=A[i][j]*B[j][k]\n",
        "  return result\n",
        "    # write your code\n",
        "\n",
        "matrix_mul(A, B)"
      ]
    },
    {
      "cell_type": "markdown",
      "metadata": {
        "id": "at4VwLggB-kn"
      },
      "source": [
        "<h3> Q2: Proportional Sampling - Select a number randomly with probability proportional to its magnitude from the given array of n elements</h3>\n",
        "\n",
        "Consider an experiment, selecting an element from the list A randomly with probability proportional to its magnitude.\n",
        "assume we are doing the same experiment for 100 times with replacement, in each experiment you will print a number that is selected randomly from A.\n",
        "\n",
        "<pre>\n",
        "Ex 1: A = [0 5 27 6 13 28 100 45 10 79]\n",
        "let f(x) denote the number of times x getting selected in 100 experiments.\n",
        "f(100) > f(79) > f(45) > f(28) > f(27) > f(13) > f(10) > f(6) > f(5) > f(0)\n",
        "</pre>"
      ]
    },
    {
      "cell_type": "code",
      "execution_count": null,
      "metadata": {
        "id": "B6S2dpBhB-kn"
      },
      "outputs": [],
      "source": [
        "from random import uniform\n",
        "# write your python code here\n",
        "# you can take the above example as sample input for your program to test\n",
        "# it should work for any general input try not to hard code for only given input examples\n",
        "\n",
        "def pick_a_number_from_list(A):\n",
        "  s=sum(A)\n",
        "  A=A//s\n",
        "  cum_sum=A[0]\n",
        "  new_list=[cum_sum]\n",
        "  for i in range(1,len(A)):\n",
        "    cum_sum=cum_sum+A[i]\n",
        "    new_list.append(cum_sum)\n",
        "  r=random.uniform(0,1)\n",
        "def sampling_based_on_magnitued():\n",
        "    for i in range(1,100):\n",
        "        number = pick_a_number_from_list(A)\n",
        "        print(number)\n",
        "\n",
        "sampling_based_on_magnitued()"
      ]
    },
    {
      "cell_type": "markdown",
      "metadata": {
        "id": "D1xQy2WWB-kq"
      },
      "source": [
        "<h3> Q3: Replace the digits in the string with #</h3>\n",
        "\n",
        "consider a string that will have digits in that, we need to remove all the not digits and replace the digits with #\n",
        "<pre>\n",
        "Ex 1: A = 234                Output: ###\n",
        "Ex 2: A = a2b3c4             Output: ###\n",
        "Ex 3: A = abc                Output:   (empty string)\n",
        "Ex 5: A = #2a$#b%c%561#      Output: ####\n",
        "</pre>"
      ]
    },
    {
      "cell_type": "code",
      "execution_count": null,
      "metadata": {
        "colab": {
          "base_uri": "https://localhost:8080/",
          "height": 35
        },
        "id": "fxczi2jzB-kr",
        "outputId": "c543ff2d-066f-441e-9801-822dfb292b6c"
      },
      "outputs": [
        {
          "output_type": "execute_result",
          "data": {
            "text/plain": [
              "'####'"
            ],
            "application/vnd.google.colaboratory.intrinsic+json": {
              "type": "string"
            }
          },
          "metadata": {},
          "execution_count": 13
        }
      ],
      "source": [
        "import re\n",
        "# write your python code here\n",
        "# you can take the above example as sample input for your program to test\n",
        "# it should work for any general input try not to hard code for only given input examples\n",
        "# try to complete this question using regular expressions\n",
        "# you can free to change all these codes/structure\n",
        "# String: it will be the input to your program\n",
        "def replace_digits(String):\n",
        "  fs=re.sub('\\D','',String)\n",
        "  fs=re.sub('\\d','#',fs)\n",
        "\n",
        "\n",
        "    # write your code\n",
        "    #\n",
        "  return fs # modified string which is after replacing the # with digits\n",
        "String='#2a$#b%c%561#'\n",
        "replace_digits(String)"
      ]
    },
    {
      "cell_type": "markdown",
      "metadata": {
        "id": "j7h0Ywg7B-kw"
      },
      "source": [
        "<h3> Q4: Students marks dashboard</h3>\n",
        "\n",
        "consider the marks list of class students given two lists <br>\n",
        "Students = ['student1','student2','student3','student4','student5','student6','student7','student8','student9','student10'] <br>\n",
        "Marks = [45, 78, 12, 14, 48, 43, 45, 98, 22, 80] <br>\n",
        "from the above two lists the Student[0] got Marks[0],  Student[1] got Marks[1] and so on <br><br>\n",
        "your task is to print the name of students\n",
        "<strong>a. Who got top 5 ranks, in the descending order of marks</strong> <br>\n",
        "<strong>b. Who got least 5 ranks, in the increasing order of marks</strong><br>\n",
        "<strong>d. Who got marks between  &gt;25th percentile &lt;75th percentile, in the increasing order of marks</strong>\n",
        "\n",
        "<pre>\n",
        "Ex 1:\n",
        "Students=['student1','student2','student3','student4','student5','student6','student7','student8','student9','student10']\n",
        "Marks = [45, 78, 12, 14, 48, 43, 47, 98, 22, 80]\n",
        "a.\n",
        "student8  98\n",
        "student10 80\n",
        "student2  78\n",
        "student5  48\n",
        "student7  47\n",
        "b.\n",
        "student3 12\n",
        "student4 14\n",
        "student9 22\n",
        "student6 43\n",
        "student1 45\n",
        "c.\n",
        "student9 22\n",
        "student6 43\n",
        "student1 45\n",
        "student7 47\n",
        "student5 48\n",
        "</pre>"
      ]
    },
    {
      "cell_type": "code",
      "execution_count": null,
      "metadata": {
        "id": "cxPJgItsB-kx"
      },
      "outputs": [],
      "source": [
        "# write your python code here\n",
        "# you can take the above example as sample input for your program to test\n",
        "# it should work for any general input try not to hard code for only given input examples\n",
        "\n",
        "# you can free to change all these codes/structure\n",
        "def display_dash_board(students, marks):\n",
        "    # write code for computing top top 5 students\n",
        "    new_list=[]\n",
        "    for i in range(len(students)):\n",
        "      t=(students[i],marks[i])\n",
        "      new_list.append(t)\n",
        "\n",
        "    student_marks = sorted(new_list, key=lambda x:x[1])\n",
        "    top_5_students=[(student, mark) for student, mark in reversed(student_marks[-5:])]\n",
        "\n",
        "\n",
        "    # write code for computing top least 5 students\n",
        "    least_5_students =student_marks[:5]\n",
        "    # write code for computing top least 5 students\n",
        "    students_within_25_and_75 = # compute this\n",
        "\n",
        "    return top_5_students, least_5_students, students_within_25_and_75\n",
        "\n",
        "top_5_students, least_5_students, students_within_25_and_75 = display_dash_board(students, marks)\n"
      ]
    },
    {
      "cell_type": "markdown",
      "metadata": {
        "id": "qha0OhQHB-k1"
      },
      "source": [
        "<h3> Q5: Find the closest points</h3>\n",
        "\n",
        "Consider you have given n data points in the form of list of tuples like S=[(x1,y1),(x2,y2),(x3,y3),(x4,y4),(x5,y5),..,(xn,yn)] and a point P=(p,q) <br> Your task is to find 5 closest points(based on cosine distance) in S from P\n",
        "<br>Cosine distance between two points (x,y) and (p,q) is defind as $cos^{-1}(\\frac{(x\\cdot p+y\\cdot q)}{\\sqrt(x^2+y^2)\\cdot\\sqrt(p^2+q^2)})$\n",
        "<pre>\n",
        "Ex:\n",
        "\n",
        "S= [(1,2),(3,4),(-1,1),(6,-7),(0, 6),(-5,-8),(-1,-1),(6,0),(1,-1)]\n",
        "P= (3,-4)\n",
        "\n",
        "<img src='https://i.imgur.com/vyZZQGu.png' width=400>\n",
        "\n",
        "Output:\n",
        "(6,-7)\n",
        "(1,-1)\n",
        "(6,0)\n",
        "(-5,-8)\n",
        "(-1,-1)\n",
        "</pre>\n",
        " Hint - If you write the formula correctly you'll get the distance between points (6,-7) and (3,-4) = 0.065"
      ]
    },
    {
      "cell_type": "code",
      "execution_count": null,
      "metadata": {
        "colab": {
          "base_uri": "https://localhost:8080/"
        },
        "id": "wA5I1g-2B-k2",
        "outputId": "1af17ce7-6af2-46a4-a83d-db851b56db03"
      },
      "outputs": [
        {
          "output_type": "stream",
          "name": "stdout",
          "text": [
            "(1, 2) 0\n",
            "(3, 4) 0\n",
            "(6, -7) 0\n",
            "(6, 0) 0\n",
            "(1, -1) 0\n"
          ]
        }
      ],
      "source": [
        "import math\n",
        "\n",
        "# write your python code here\n",
        "# you can take the above example as sample input for your program to test\n",
        "# it should work for any general input try not to hard code for only given input examples\n",
        "# you can free to change all these codes/structure\n",
        "\n",
        "\n",
        "# here S is list of tuples and P is a tuple ot len=2\n",
        "def closest_points_to_p(S, P):\n",
        "  distances=[]\n",
        "  for ele in S:\n",
        "    x_cord,y_cord=ele[0],ele[1]\n",
        "    cos_angle=(x_cord*P[0])+(y_cord*P[1])/((math.sqrt((x_cord)**2+(y_cord)**2))* (math.sqrt((P[0])**2+(P[1])**2)))\n",
        "    cos_angle = max(min(cos_angle, 1), -1)\n",
        "    acos_angle = 0\n",
        "    if cos_angle == 1:\n",
        "        acos_angle = 0\n",
        "    elif cos_angle == -1:\n",
        "        acos_angle = math.pi\n",
        "    else:\n",
        "        # Using a simple approximation for acos\n",
        "        acos_angle = math.pi / 2 - cos_angle\n",
        "    distances.append((ele,acos_angle))\n",
        "    closest_points=sorted(distances,key=lambda x:x[1])[:5]\n",
        "\n",
        "    # write your code here\n",
        "  return closest_points  # its list of tuples\n",
        "\n",
        "S= [(1,2),(3,4),(-1,1),(6,-7),(0, 6),(-5,-8),(-1,-1),(6,0),(1,-1)]\n",
        "P= (3,-4)\n",
        "points = closest_points_to_p(S, P)\n",
        "for point in points:\n",
        "  print(point[0],point[1])"
      ]
    },
    {
      "cell_type": "markdown",
      "metadata": {
        "id": "-g11jeAiB-k5"
      },
      "source": [
        "<h3> Q6: Find Which line separates oranges and apples</h3>\n",
        "consider you have given two set of data points in the form of list of tuples like\n",
        "<pre>\n",
        "Red =[(R11,R12),(R21,R22),(R31,R32),(R41,R42),(R51,R52),..,(Rn1,Rn2)]\n",
        "Blue=[(B11,B12),(B21,B22),(B31,B32),(B41,B42),(B51,B52),..,(Bm1,Bm2)]\n",
        "</pre>\n",
        "and set of line equations(in the string formate, i.e list of strings)\n",
        "<pre>\n",
        "Lines = [a1x+b1y+c1,a2x+b2y+c2,a3x+b3y+c3,a4x+b4y+c4,..,K lines]\n",
        "Note: you need to string parsing here and get the coefficients of x,y and intercept\n",
        "</pre>\n",
        "your task is to for each line that is given print \"YES\"/\"NO\", you will print yes, if all the red points are one side of the line and blue points are other side of the line, otherwise no\n",
        "<pre>\n",
        "Ex:\n",
        "Red= [(1,1),(2,1),(4,2),(2,4), (-1,4)]\n",
        "Blue= [(-2,-1),(-1,-2),(-3,-2),(-3,-1),(1,-3)]\n",
        "Lines=[\"1x+1y+0\",\"1x-1y+0\",\"1x+0y-3\",\"0x+1y-0.5\"]\n",
        "<img src='https://i.imgur.com/mSnQW5K.png' width=400>\n",
        "\n",
        "Output:\n",
        "YES\n",
        "NO\n",
        "NO\n",
        "YES\n",
        "</pre>"
      ]
    },
    {
      "cell_type": "code",
      "execution_count": null,
      "metadata": {
        "colab": {
          "base_uri": "https://localhost:8080/"
        },
        "id": "eRxExaTRB-k6",
        "outputId": "e4bb366f-d608-4b05-86c0-1a9b6faf106a"
      },
      "outputs": [
        {
          "output_type": "stream",
          "name": "stdout",
          "text": [
            "Yes\n",
            "No\n",
            "No\n",
            "Yes\n"
          ]
        }
      ],
      "source": [
        "import math\n",
        "# write your python code here\n",
        "# you can take the above example as sample input for your program to test\n",
        "# it should work for any general input try not to hard code for only given input strings\n",
        "\n",
        "\n",
        "# you can free to change all these codes/structure\n",
        "def i_am_the_one(red,blue,line):\n",
        "  line.strip()\n",
        "  parts = line.split('x')\n",
        "  x_coeff = int(parts[0])\n",
        "  parts = parts[1].split('y')\n",
        "  y_coeff = int(parts[0])\n",
        "  if (parts[1][0]=='-'):\n",
        "       const= -1* int(float(parts[1][1:]))\n",
        "  else:\n",
        "    const=int(float(parts[1][1:]))\n",
        "\n",
        "  res=red[0][0]*x_coeff+red[0][1]*y_coeff+const\n",
        "  if res>=0:\n",
        "    pos_r=True\n",
        "  else :\n",
        "    pos_r=False\n",
        "  for point in red[1:]:\n",
        "    res=point[0]*x_coeff+point[1]*y_coeff+const\n",
        "\n",
        "    if (res<0 and pos_r==True) or (res>=0 and pos_r==False):\n",
        "      return 'No'\n",
        "\n",
        "    else:\n",
        "      continue\n",
        "\n",
        "  res=blue[0][0]*x_coeff+blue[0][1]*y_coeff+const\n",
        "  if res>=0:\n",
        "    pos_b=True\n",
        "  else:\n",
        "      pos_b=False\n",
        "  for point in blue[1:]:\n",
        "    res=point[0]*x_coeff+point[1]*y_coeff+const\n",
        "\n",
        "    if (res<0 and pos_b==True) or (res>=0 and pos_b==False):\n",
        "      return 'No'\n",
        "    else:\n",
        "      continue\n",
        "  if pos_r != pos_b:\n",
        "    return \"Yes\"\n",
        "  return \"No\"\n",
        "\n",
        "\n",
        "\n",
        "\n",
        "    # your code\n",
        "\n",
        "\n",
        "Red= [(1,1),(2,1),(4,2),(2,4), (-1,4)]\n",
        "Blue= [(-2,-1),(-1,-2),(-3,-2),(-3,-1),(1,-3)]\n",
        "Lines=[\"1x+1y+0\",\"1x-1y+0\",\"1x+0y-3\",\"0x+1y-0.5\"]\n",
        "\n",
        "for i in Lines:\n",
        "    yes_or_no = i_am_the_one(Red, Blue, i)\n",
        "    print( yes_or_no) # the returned value"
      ]
    },
    {
      "cell_type": "markdown",
      "metadata": {
        "id": "9OBpURbNB-k9"
      },
      "source": [
        "<h3> Q7: Filling the missing values in the specified formate</h3>\n",
        "You will be given a string with digits and '\\_'(missing value) symbols you have to replace the '\\_' symbols as explained\n",
        "<pre>\n",
        "Ex 1: _, _, _, 24 ==> 24/4, 24/4, 24/4, 24/4 i.e we. have distributed the 24 equally to all 4 places <br>\n",
        "Ex 2: 40, _, _, _, 60 ==> (60+40)/5,(60+40)/5,(60+40)/5,(60+40)/5,(60+40)/5 ==> 20, 20, 20, 20, 20 i.e. the sum of (60+40) is distributed qually to all 5 places<br>\n",
        "Ex 3: 80, _, _, _, _  ==> 80/5,80/5,80/5,80/5,80/5 ==> 16, 16, 16, 16, 16 i.e. the 80 is distributed qually to all 5 missing values that are right to it<br>\n",
        "Ex 4: _, _, 30, _, _, _, 50, _, _  \n",
        "==> we will fill the missing values from left to right\n",
        "    a. first we will distribute the 30 to left two missing values (10, 10, 10, _, _, _, 50, _, _)\n",
        "    b. now distribute the sum (10+50) missing values in between (10, 10, 12, 12, 12, 12, 12, _, _)\n",
        "    c. now we will distribute 12 to right side missing values (10, 10, 12, 12, 12, 12, 4, 4, 4)\n",
        "</pre>\n",
        "for a given string with comma seprate values, which will have both missing values numbers like ex: \"_, _, x, _, _, _\"\n",
        "you need fill the missing values\n",
        "\n",
        "Q: your program reads a string like ex: \"_, _, x, _, _, _\" and returns the filled sequence\n",
        "\n",
        "Ex:\n",
        "<pre>\n",
        "Input1: \"_,_,_,24\"\n",
        "Output1: 6,6,6,6\n",
        "\n",
        "Input2: \"40,_,_,_,60\"\n",
        "Output2: 20,20,20,20,20\n",
        "\n",
        "Input3: \"80,_,_,_,_\"\n",
        "Output3: 16,16,16,16,16\n",
        "\n",
        "Input4: \"_,_,30,_,_,_,50,_,_\"\n",
        "Output4: 10,10,12,12,12,12,4,4,4\n",
        "\n",
        "</pre>\n",
        "\n"
      ]
    },
    {
      "cell_type": "code",
      "execution_count": null,
      "metadata": {
        "colab": {
          "base_uri": "https://localhost:8080/"
        },
        "id": "nZmpzHs_B-k-",
        "outputId": "e8c40953-a54a-4125-be2b-b0f26564397b"
      },
      "outputs": [
        {
          "output_type": "stream",
          "name": "stdout",
          "text": [
            "['80', '_', '_', '_', '_']\n",
            "[80, 0, 0, 0, 0]\n",
            "80\n",
            "[16, 16, 16, 16, 16]\n"
          ]
        }
      ],
      "source": [
        "# write your python code here\n",
        "# you can take the above example as sample input for your program to test\n",
        "# it should work for any general input try not to hard code for only given input strings\n",
        "#run your code in the function for each of the inputs mentioned above and make sure that you get the same results\n",
        "\n",
        "# you can free to change all these codes/structure\n",
        "def curve_smoothing(string):\n",
        "  pos=-1\n",
        "\n",
        "  string=string.split(',')\n",
        "  print(string)\n",
        "  l=[0]*len(string)\n",
        "  for i in range(len(string)):\n",
        "    if string[i] =='_':\n",
        "      continue\n",
        "    else:\n",
        "      if pos==-1:\n",
        "        l[0:i+1:1]=[int(string[i])//len( string[:i+1]) for k in range(i+1) ]\n",
        "        print(l)\n",
        "        pos=i\n",
        "      elif pos>-1:\n",
        "        print(pos,i)\n",
        "        l[pos:i+1]=[(int(string[i])+int(l[pos]))//len(string[pos:i+1]) for k in range(pos,i+1) ]\n",
        "        pos=i\n",
        "      else:\n",
        "        continue\n",
        "  if string[-1]=='_':\n",
        "    print(string[pos])\n",
        "    l[pos::]=[int(l[pos])//len(string[pos:]) for k in range(pos,i+1) ]\n",
        "\n",
        "  return l\n",
        "\n",
        "\n",
        "\n",
        "  return #list of values\n",
        "\n",
        "#S=  \"_,_,30,_,_,_,50,_,_\"\n",
        "S=\"80,_,_,_,_\"\n",
        "smoothed_values= curve_smoothing(S)\n",
        "print(smoothed_values)# print above values)"
      ]
    },
    {
      "cell_type": "markdown",
      "metadata": {
        "id": "RBz4pzlfB-lB"
      },
      "source": [
        "<h3> Q8: Filling the missing values in the specified formate</h3>\n",
        "You will be given a list of lists, each sublist will be of length 2 i.e. [[x,y],[p,q],[l,m]..[r,s]]\n",
        "consider its like a martrix of n rows and two columns\n",
        "1. the first column F will contain only 5 uniques values (F1, F2, F3, F4, F5)\n",
        "2. the second column S will contain only 3 uniques values (S1, S2, S3)\n",
        "<pre>\n",
        "your task is to find\n",
        "a. Probability of P(F=F1|S==S1), P(F=F1|S==S2), P(F=F1|S==S3)\n",
        "b. Probability of P(F=F2|S==S1), P(F=F2|S==S2), P(F=F2|S==S3)\n",
        "c. Probability of P(F=F3|S==S1), P(F=F3|S==S2), P(F=F3|S==S3)\n",
        "d. Probability of P(F=F4|S==S1), P(F=F4|S==S2), P(F=F4|S==S3)\n",
        "e. Probability of P(F=F5|S==S1), P(F=F5|S==S2), P(F=F5|S==S3)\n",
        "</pre>\n",
        "Ex:\n",
        "\n",
        "<pre>\n",
        "[[F1,S1],[F2,S2],[F3,S3],[F1,S2],[F2,S3],[F3,S2],[F2,S1],[F4,S1],[F4,S3],[F5,S1]]\n",
        "\n",
        "a. P(F=F1|S==S1)=1/4, P(F=F1|S==S2)=1/3, P(F=F1|S==S3)=0/3\n",
        "b. P(F=F2|S==S1)=1/4, P(F=F2|S==S2)=1/3, P(F=F2|S==S3)=1/3\n",
        "c. P(F=F3|S==S1)=0/4, P(F=F3|S==S2)=1/3, P(F=F3|S==S3)=1/3\n",
        "d. P(F=F4|S==S1)=1/4, P(F=F4|S==S2)=0/3, P(F=F4|S==S3)=1/3\n",
        "e. P(F=F5|S==S1)=1/4, P(F=F5|S==S2)=0/3, P(F=F5|S==S3)=0/3\n",
        "</pre>\n",
        "\n",
        "\n"
      ]
    },
    {
      "cell_type": "code",
      "execution_count": null,
      "metadata": {
        "id": "e-1giz1MB-lC"
      },
      "outputs": [],
      "source": [
        "# write your python code here\n",
        "# you can take the above example as sample input for your program to test\n",
        "# it should work for any general input try not to hard code for only given input strings. Do not write 15 print statements.\n",
        "# you can use nested loops or dictionaries to write your code\n",
        "\n",
        "\n",
        "# you can free to change all these codes/structure\n",
        "def compute_conditional_probabilites(A):\n",
        "    # your code\n",
        "    # print the output as per the instructions\n",
        "\n",
        "A = [['F1','S1'],['F2','S2'],['F3','S3'],['F1','S2'],['F2','S3'],['F3','S2'],['F2','S1'],['F4','S1'],['F4','S3'],['F5','S1']]\n",
        "\n",
        "compute_conditional_probabilites(A)"
      ]
    },
    {
      "cell_type": "markdown",
      "metadata": {
        "id": "n4HS87QmB-lF"
      },
      "source": [
        "<h3> Q9: Given two sentances S1, S2</h3>\n",
        "You will be given two sentances S1, S2 your task is to find\n",
        "<pre>\n",
        "a. Number of common words between S1, S2\n",
        "b. Words in S1 but not in S2\n",
        "c. Words in S2 but not in S1\n",
        "</pre>\n",
        "\n",
        "Ex:\n",
        "<pre>\n",
        "S1= \"the first column F will contain only 5 uniques values\"\n",
        "S2= \"the second column S will contain only 3 uniques values\"\n",
        "Output:\n",
        "a. 7\n",
        "b. ['first','F','5']\n",
        "c. ['second','S','3']\n",
        "</pre>"
      ]
    },
    {
      "cell_type": "code",
      "execution_count": null,
      "metadata": {
        "colab": {
          "base_uri": "https://localhost:8080/"
        },
        "id": "Ez7hlHK0B-lG",
        "outputId": "48fdf5da-c491-40ac-a5ee-11c03efcf6d5"
      },
      "outputs": [
        {
          "output_type": "stream",
          "name": "stdout",
          "text": [
            "7 {'F', '5', 'first'} {'3', 'S', 'second'}\n"
          ]
        }
      ],
      "source": [
        "# write your python code here\n",
        "# you can take the above example as sample input for your program to test\n",
        "# it should work for any general input try not to hard code for only given input strings\n",
        "\n",
        "# you can free to change all these codes/structure\n",
        "def string_features(S1, S2):\n",
        "  words_S1 = set(S1.split())\n",
        "  words_S2 = set(S2.split())\n",
        "\n",
        "  # Find common words between S1 and S2\n",
        "  common_words = words_S1.intersection(words_S2)\n",
        "\n",
        "  # Find words in S1 but not in S2\n",
        "  unique_words_S1 = words_S1.difference(words_S2)\n",
        "\n",
        "  # Find words in S2 but not in S1\n",
        "  unique_words_S2 = words_S2.difference(words_S1)\n",
        "\n",
        "  # Output\n",
        "  return (len(common_words), unique_words_S1, unique_words_S2)\n",
        "    # your code\n",
        "\n",
        "\n",
        "S1= \"the first column F will contain only 5 uniques values\"\n",
        "S2= \"the second column S will contain only 3 uniques values\"\n",
        "a,b,c = string_features(S1, S2)\n",
        "print(a,b,c)"
      ]
    },
    {
      "cell_type": "markdown",
      "metadata": {
        "id": "XefXVEjCB-lI"
      },
      "source": [
        "<h3> Q10: Given two sentances S1, S2</h3>\n",
        "You will be given a list of lists, each sublist will be of length 2 i.e. [[x,y],[p,q],[l,m]..[r,s]]\n",
        "consider its like a martrix of n rows and two columns\n",
        "\n",
        "a. the first column Y will contain interger values <br>\n",
        "b. the second column $Y_{score}$ will be having float values <br>\n",
        "Your task is to find the value of $f(Y,Y_{score}) = -1*\\frac{1}{n}\\Sigma_{for each Y,Y_{score} pair}(Ylog10(Y_{score})+(1-Y)log10(1-Y_{score}))$ here n is the number of rows in the matrix\n",
        "<pre>\n",
        "Ex:\n",
        "[[1, 0.4], [0, 0.5], [0, 0.9], [0, 0.3], [0, 0.6], [1, 0.1], [1, 0.9], [1, 0.8]]\n",
        "output:\n",
        "0.4243099\n",
        "</pre>\n",
        "$\\frac{-1}{8}\\cdot((1\\cdot log_{10}(0.4)+0\\cdot log_{10}(0.6))+(0\\cdot log_{10}(0.5)+1\\cdot log_{10}(0.5)) + ... + (1\\cdot log_{10}(0.8)+0\\cdot log_{10}(0.2)) )$"
      ]
    },
    {
      "cell_type": "code",
      "execution_count": null,
      "metadata": {
        "colab": {
          "base_uri": "https://localhost:8080/"
        },
        "id": "N9zkagyNB-lJ",
        "outputId": "546b8859-5692-4ad0-e5a0-0698cd7dc195"
      },
      "outputs": [
        {
          "output_type": "stream",
          "name": "stdout",
          "text": [
            "-0.39794000867203755\n",
            "-0.6989700043360187\n",
            "-1.6989700043360187\n",
            "-1.8538719643217618\n",
            "-2.2518119729937993\n",
            "-3.2518119729937993\n",
            "-3.2975694635544746\n",
            "-3.394479476562531\n",
            "0.42430993457031635\n"
          ]
        }
      ],
      "source": [
        "# write your python code here\n",
        "# you can take the above example as sample input for your program to test\n",
        "# it should work for any general input try not to hard code for only given input strings\n",
        "\n",
        "import math\n",
        "# you can free to change all these codes/structure\n",
        "def compute_log_loss(A):\n",
        "  n=len(A)\n",
        "  logloss=0\n",
        "  for ele in A:\n",
        "    logloss=logloss+((ele[0]*(math.log(ele[1])/math.log(10)))+ ((1-ele[0])*(math.log(1-ele[1])/math.log(10))))\n",
        "  return (-1*logloss)/n\n",
        "    # your code\n",
        "\n",
        "\n",
        "A = [[1, 0.4], [0, 0.5], [0, 0.9], [0, 0.3], [0, 0.6], [1, 0.1], [1, 0.9], [1, 0.8]]\n",
        "loss = compute_log_loss(A)\n",
        "print(loss)"
      ]
    }
  ],
  "metadata": {
    "colab": {
      "provenance": []
    },
    "kernelspec": {
      "display_name": "Python 3",
      "language": "python",
      "name": "python3"
    },
    "language_info": {
      "codemirror_mode": {
        "name": "ipython",
        "version": 3
      },
      "file_extension": ".py",
      "mimetype": "text/x-python",
      "name": "python",
      "nbconvert_exporter": "python",
      "pygments_lexer": "ipython3",
      "version": "3.6.3"
    }
  },
  "nbformat": 4,
  "nbformat_minor": 0
}